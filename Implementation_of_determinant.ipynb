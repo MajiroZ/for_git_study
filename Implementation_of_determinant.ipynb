{
  "nbformat": 4,
  "nbformat_minor": 0,
  "metadata": {
    "colab": {
      "provenance": [],
      "authorship_tag": "ABX9TyMtrbMkhJ9UYzVYYzWMPznY",
      "include_colab_link": true
    },
    "kernelspec": {
      "name": "python3",
      "display_name": "Python 3"
    },
    "language_info": {
      "name": "python"
    }
  },
  "cells": [
    {
      "cell_type": "markdown",
      "metadata": {
        "id": "view-in-github",
        "colab_type": "text"
      },
      "source": [
        "<a href=\"https://colab.research.google.com/github/MajiroZ/for_git_study/blob/master/Implementation_of_determinant.ipynb\" target=\"_parent\"><img src=\"https://colab.research.google.com/assets/colab-badge.svg\" alt=\"Open In Colab\"/></a>"
      ]
    },
    {
      "cell_type": "code",
      "execution_count": 2,
      "metadata": {
        "id": "Z7ylxiDe0MQK"
      },
      "outputs": [],
      "source": [
        "import numpy as np\n",
        "a_ndarray = np.array([[-1, 2, 3], [4, -5, 6], [7, 8, -9]])\n",
        "b_ndarray = np.array([[0, 2, 1], [0, 2, -8], [2, 9, -1]])"
      ]
    },
    {
      "cell_type": "markdown",
      "source": [
        "##【問題1】行列式を手計算する\n",
        "\n"
      ],
      "metadata": {
        "id": "zNQdjNl70pTS"
      }
    },
    {
      "cell_type": "markdown",
      "source": [
        "A = \\begin{bmatrix}\n",
        "-1 & 2 & 3 \\\\\n",
        "4 & -5 & 6 \\\\\n",
        "7 & 8 & -9\n",
        "\\end{bmatrix}\n",
        "\n",
        "のi行と\n",
        "\n",
        "B = \\begin{bmatrix}\n",
        "0 & 2 & 1 \\\\\n",
        "0 & 2 & -8 \\\\\n",
        "2 & 9 & -1\n",
        "\\end{bmatrix}\n",
        "のj列のn番目の要素同士の積の和が、行列の積の各要素になる。\n",
        "\n",
        "C[0,0]（1行目1列目の要素）\n",
        "C[0,0]=(−1)⋅0+2⋅0+3⋅2=0+0+6=6\n",
        "\n",
        "C[0,1]（1行目2列目の要素）\n",
        "C[0,1]=(−1)⋅2+2⋅2+3⋅9=−2+4+27=29\n",
        "\n",
        "C[0,2]（1行目3列目の要素）\n",
        "C[0,2]=(−1)⋅1+2⋅(−8)+3⋅(−1)=−1−16−3=−20\n",
        "他の要素も同様に計算\n",
        "\n",
        "計算結果をまとめると、行列Cは以下の通り\n",
        "C = \\begin{bmatrix}\n",
        "6 & 29 & -20\\\\\n",
        "12 & 52 & 38\\\\\n",
        "-18 & -51 & -48\n",
        "\\end{bmatrix}"
      ],
      "metadata": {
        "id": "xCh1vwUK2prF"
      }
    },
    {
      "cell_type": "markdown",
      "source": [
        "##【問題2】NumPyの関数による計算"
      ],
      "metadata": {
        "id": "D5TeI8Rv5D74"
      }
    },
    {
      "cell_type": "code",
      "source": [
        "import numpy as np\n",
        "np.matmul(a_ndarray, b_ndarray)"
      ],
      "metadata": {
        "colab": {
          "base_uri": "https://localhost:8080/"
        },
        "id": "B-2p97cc5DVh",
        "outputId": "97f39194-1e5e-4a89-9e3d-781952ed102d"
      },
      "execution_count": 3,
      "outputs": [
        {
          "output_type": "execute_result",
          "data": {
            "text/plain": [
              "array([[  6,  29, -20],\n",
              "       [ 12,  52,  38],\n",
              "       [-18, -51, -48]])"
            ]
          },
          "metadata": {},
          "execution_count": 3
        }
      ]
    },
    {
      "cell_type": "markdown",
      "source": [
        "##【問題3】ある要素の計算を実装"
      ],
      "metadata": {
        "id": "oYVgfAhw6_5P"
      }
    },
    {
      "cell_type": "code",
      "source": [
        "def matrix_product(a, b):\n",
        "    c = np.zeros((3, 3))\n",
        "    for i in range(3):\n",
        "        for j in range(3):\n",
        "            for k in range(3):\n",
        "                c[i, j] += a[i, k] * b[k, j]\n",
        "    return c"
      ],
      "metadata": {
        "id": "0pjxExrv4-nE"
      },
      "execution_count": 6,
      "outputs": []
    },
    {
      "cell_type": "code",
      "source": [
        "matrix_product(a_ndarray, b_ndarray)"
      ],
      "metadata": {
        "colab": {
          "base_uri": "https://localhost:8080/"
        },
        "id": "83sv8hzc76-N",
        "outputId": "709a9198-456f-40f7-cf97-fcac3f785939"
      },
      "execution_count": 7,
      "outputs": [
        {
          "output_type": "execute_result",
          "data": {
            "text/plain": [
              "array([[  6.,  29., -20.],\n",
              "       [ 12.,  52.,  38.],\n",
              "       [-18., -51., -48.]])"
            ]
          },
          "metadata": {},
          "execution_count": 7
        }
      ]
    },
    {
      "cell_type": "markdown",
      "source": [
        "※3行3列の行列同士の計算用のコードです。"
      ],
      "metadata": {
        "id": "2pPNZbNY8OCN"
      }
    },
    {
      "cell_type": "markdown",
      "source": [
        "##【問題4】行列積を行う関数の作成"
      ],
      "metadata": {
        "id": "Z8Yxc8EV8UBi"
      }
    },
    {
      "cell_type": "code",
      "source": [
        "def matrix_product2(a, b):\n",
        "  c = np.zeros((np.size(a,0), np.size(b,1)))\n",
        "  for i in range(np.size(a,0)):\n",
        "    for j in range(np.size(b,1)):\n",
        "      for k in range(np.size(a,1)):\n",
        "        c[i, j] += a[i, k] * b[k, j]\n",
        "  return c"
      ],
      "metadata": {
        "id": "Blv9qrIv8mHg"
      },
      "execution_count": 12,
      "outputs": []
    },
    {
      "cell_type": "code",
      "source": [
        "c_ndarray = np.array([[-1, 2, 3, 4], [4, -5, 6, 7], [7, 8, -9, 10]])\n",
        "d_ndarray = np.array([[0, 2, 1], [0, 2, -8], [2, 9, -1], [1, 2, 3]])\n",
        "matrix_product2(c_ndarray, d_ndarray)"
      ],
      "metadata": {
        "colab": {
          "base_uri": "https://localhost:8080/"
        },
        "id": "A9kr27s08_TA",
        "outputId": "090844b4-204b-403e-da72-e4918a23bc94"
      },
      "execution_count": 13,
      "outputs": [
        {
          "output_type": "execute_result",
          "data": {
            "text/plain": [
              "array([[ 10.,  37.,  -8.],\n",
              "       [ 19.,  66.,  59.],\n",
              "       [ -8., -31., -18.]])"
            ]
          },
          "metadata": {},
          "execution_count": 13
        }
      ]
    },
    {
      "cell_type": "markdown",
      "source": [],
      "metadata": {
        "id": "YFpJt-P38lx3"
      }
    },
    {
      "cell_type": "markdown",
      "source": [
        "##【問題5】計算が定義されない入力を判定する"
      ],
      "metadata": {
        "id": "T9zwSc4R-JLk"
      }
    },
    {
      "cell_type": "code",
      "source": [
        "def matrix_product2(a, b):\n",
        "  c = np.zeros((np.size(a,0), np.size(b,1)))\n",
        "  if np.size(a,1) != np.size(b,0):\n",
        "    print(\"計算が定義されない行列です。\")\n",
        "  else:\n",
        "    for i in range(np.size(a,0)):\n",
        "      for j in range(np.size(b,1)):\n",
        "        for k in range(np.size(a,1)):\n",
        "          c[i, j] += a[i, k] * b[k, j]\n",
        "  return c"
      ],
      "metadata": {
        "id": "UfnhBpEP-IvR"
      },
      "execution_count": 15,
      "outputs": []
    },
    {
      "cell_type": "code",
      "source": [
        "d2_ndarray = np.array([[-1, 2, 3], [4, -5, 6]])\n",
        "e_ndarray = np.array([[-9, 8, 7], [6, -5, 4]])"
      ],
      "metadata": {
        "id": "TeUZB4oJ-rL0"
      },
      "execution_count": 19,
      "outputs": []
    },
    {
      "cell_type": "code",
      "source": [
        "matrix_product2(d2_ndarray, e_ndarray)"
      ],
      "metadata": {
        "colab": {
          "base_uri": "https://localhost:8080/"
        },
        "id": "4qxXNGLv-fxl",
        "outputId": "cc0ec9e3-6833-4d87-c1a0-8a90317df781"
      },
      "execution_count": 20,
      "outputs": [
        {
          "output_type": "stream",
          "name": "stdout",
          "text": [
            "計算が定義されない行列です。\n"
          ]
        },
        {
          "output_type": "execute_result",
          "data": {
            "text/plain": [
              "array([[0., 0., 0.],\n",
              "       [0., 0., 0.]])"
            ]
          },
          "metadata": {},
          "execution_count": 20
        }
      ]
    },
    {
      "cell_type": "markdown",
      "source": [
        "##【問題6】転置"
      ],
      "metadata": {
        "id": "ENc_DJEt_Bih"
      }
    },
    {
      "cell_type": "code",
      "source": [
        "a_ndarray = np.array([[-1, 2, 3], [4, -5, 6], [7, 8, -9]])\n",
        "b_ndarray = np.array([[0, 2, 1], [0, 2, -8], [2, 9, -1]])\n",
        "\n",
        "# b_ndarrayを転置\n",
        "b_ndarray_transposed = np.transpose(b_ndarray)\n",
        "\n",
        "# 行列積を計算\n",
        "result = np.matmul(a_ndarray, b_ndarray_transposed)\n",
        "\n",
        "result"
      ],
      "metadata": {
        "colab": {
          "base_uri": "https://localhost:8080/"
        },
        "id": "2sHI4GB4ASD4",
        "outputId": "a2f46f53-ac75-4e79-f895-8a66b671a316"
      },
      "execution_count": 22,
      "outputs": [
        {
          "output_type": "execute_result",
          "data": {
            "text/plain": [
              "array([[  7, -20,  13],\n",
              "       [ -4, -58, -43],\n",
              "       [  7,  88,  95]])"
            ]
          },
          "metadata": {},
          "execution_count": 22
        }
      ]
    }
  ]
}