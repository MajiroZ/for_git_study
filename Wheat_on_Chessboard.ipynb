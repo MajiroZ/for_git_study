{
  "nbformat": 4,
  "nbformat_minor": 0,
  "metadata": {
    "colab": {
      "provenance": [],
      "authorship_tag": "ABX9TyPih9KmeF7oD6LgnEonKRMo",
      "include_colab_link": true
    },
    "kernelspec": {
      "name": "python3",
      "display_name": "Python 3"
    },
    "language_info": {
      "name": "python"
    }
  },
  "cells": [
    {
      "cell_type": "markdown",
      "metadata": {
        "id": "view-in-github",
        "colab_type": "text"
      },
      "source": [
        "<a href=\"https://colab.research.google.com/github/MajiroZ/for_git_study/blob/master/Wheat_on_Chessboard.ipynb\" target=\"_parent\"><img src=\"https://colab.research.google.com/assets/colab-badge.svg\" alt=\"Open In Colab\"/></a>"
      ]
    },
    {
      "cell_type": "markdown",
      "source": [
        "##小麦とチェス盤問題\n",
        "###【問題1】２×２マスのチェス盤の小麦の数"
      ],
      "metadata": {
        "id": "nJqN1idsvqC-"
      }
    },
    {
      "cell_type": "code",
      "execution_count": 12,
      "metadata": {
        "colab": {
          "base_uri": "https://localhost:8080/"
        },
        "id": "n4rkJ79GtrUe",
        "outputId": "bc804073-4f55-4073-f07a-0a14d023459d"
      },
      "outputs": [
        {
          "output_type": "stream",
          "name": "stdout",
          "text": [
            "4マスの板に小麦を並べる（リスト）：[1, 2, 4, 8]\n"
          ]
        }
      ],
      "source": [
        "n_squares = 4\n",
        "small_board_list = [1]\n",
        "for _ in range(n_squares - 1):\n",
        "    small_board_list.append(2*small_board_list[-1])\n",
        "print(\"4マスの板に小麦を並べる（リスト）：{}\".format(small_board_list))"
      ]
    },
    {
      "cell_type": "code",
      "source": [
        "import numpy as np\n",
        "import numpy as np\n",
        "\n",
        "small_board_ndarray = np.array(small_board_list)\n",
        "small_board_ndarray = np.reshape(small_board_ndarray, (2,2))\n",
        "print(\"4マスの板に小麦を並べる（ndarray）：{}\".format(small_board_ndarray))"
      ],
      "metadata": {
        "colab": {
          "base_uri": "https://localhost:8080/"
        },
        "id": "p886TAXywPw7",
        "outputId": "9da7219d-84fd-401c-a644-a31a12cd6a10"
      },
      "execution_count": 13,
      "outputs": [
        {
          "output_type": "stream",
          "name": "stdout",
          "text": [
            "4マスの板に小麦を並べる（ndarray）：[[1 2]\n",
            " [4 8]]\n"
          ]
        }
      ]
    },
    {
      "cell_type": "markdown",
      "source": [
        "###【問題2】ｎ×ｍマスへの拡張"
      ],
      "metadata": {
        "id": "HfXPgDNE0KLl"
      }
    },
    {
      "cell_type": "code",
      "source": [
        "def board_list(n,m):\n",
        "    small_board_list = [1]\n",
        "    for _ in range(n * m - 1):\n",
        "        small_board_list.append(2 * small_board_list[-1])\n",
        "    small_board_ndarray = np.array(small_board_list)\n",
        "    small_board_ndarray = np.reshape(small_board_ndarray, (n,m))\n",
        "    return small_board_ndarray, \"合計：{}\".format(np.sum(small_board_ndarray))\n",
        "board_list(8,8)"
      ],
      "metadata": {
        "colab": {
          "base_uri": "https://localhost:8080/"
        },
        "id": "HyXzTl760PjO",
        "outputId": "ef60318c-47ed-4eb3-d8c6-f4bdd96909ea"
      },
      "execution_count": 21,
      "outputs": [
        {
          "output_type": "execute_result",
          "data": {
            "text/plain": [
              "(array([[1.00000000e+00, 2.00000000e+00, 4.00000000e+00, 8.00000000e+00,\n",
              "         1.60000000e+01, 3.20000000e+01, 6.40000000e+01, 1.28000000e+02],\n",
              "        [2.56000000e+02, 5.12000000e+02, 1.02400000e+03, 2.04800000e+03,\n",
              "         4.09600000e+03, 8.19200000e+03, 1.63840000e+04, 3.27680000e+04],\n",
              "        [6.55360000e+04, 1.31072000e+05, 2.62144000e+05, 5.24288000e+05,\n",
              "         1.04857600e+06, 2.09715200e+06, 4.19430400e+06, 8.38860800e+06],\n",
              "        [1.67772160e+07, 3.35544320e+07, 6.71088640e+07, 1.34217728e+08,\n",
              "         2.68435456e+08, 5.36870912e+08, 1.07374182e+09, 2.14748365e+09],\n",
              "        [4.29496730e+09, 8.58993459e+09, 1.71798692e+10, 3.43597384e+10,\n",
              "         6.87194767e+10, 1.37438953e+11, 2.74877907e+11, 5.49755814e+11],\n",
              "        [1.09951163e+12, 2.19902326e+12, 4.39804651e+12, 8.79609302e+12,\n",
              "         1.75921860e+13, 3.51843721e+13, 7.03687442e+13, 1.40737488e+14],\n",
              "        [2.81474977e+14, 5.62949953e+14, 1.12589991e+15, 2.25179981e+15,\n",
              "         4.50359963e+15, 9.00719925e+15, 1.80143985e+16, 3.60287970e+16],\n",
              "        [7.20575940e+16, 1.44115188e+17, 2.88230376e+17, 5.76460752e+17,\n",
              "         1.15292150e+18, 2.30584301e+18, 4.61168602e+18, 9.22337204e+18]]),\n",
              " '合計：1.8446744073709552e+19')"
            ]
          },
          "metadata": {},
          "execution_count": 21
        }
      ]
    },
    {
      "cell_type": "markdown",
      "source": [
        "この関数board_list(n,m) によって、ｎ×ｍマスのチェス盤の各マスの小麦の数、そしてその合計が求められる。"
      ],
      "metadata": {
        "id": "eVe_mDEy1_Mx"
      }
    },
    {
      "cell_type": "markdown",
      "source": [
        "###【問題3】小麦の数の合計\n",
        "チェス盤の小麦の数の合計は、【問題2】の最後に求めた通り。\n",
        "ここでは、各列の平均を求め棒グラフで可視化する。"
      ],
      "metadata": {
        "id": "mcd6Fl991_Jc"
      }
    },
    {
      "cell_type": "code",
      "source": [
        "import numpy as np\n",
        "%matplotlib inline\n",
        "\n",
        "# Call board_list to generate the ndarray\n",
        "small_board_ndarray, total = board_list(8,8) # Update to create an 8x8 array\n",
        "\n",
        "average_wheat_per_column = np.mean(small_board_ndarray, axis=0)\n",
        "\n",
        "plt.xlabel(\"column\")\n",
        "plt.ylabel(\"average number of wheet\")\n",
        "plt.title(\"number in each column\")\n",
        "# Pass average_wheat_per_column as the height argument to plt.bar\n",
        "plt.bar(np.array(range(8)), average_wheat_per_column)\n",
        "plt.show()"
      ],
      "metadata": {
        "colab": {
          "base_uri": "https://localhost:8080/",
          "height": 472
        },
        "id": "F7PsPqUG5DeQ",
        "outputId": "4e3c8234-d12b-41bf-f628-68f53f9759d9"
      },
      "execution_count": 42,
      "outputs": [
        {
          "output_type": "display_data",
          "data": {
            "text/plain": [
              "<Figure size 640x480 with 1 Axes>"
            ],
            "image/png": "[encoded data removed]"
          },
          "metadata": {}
        }
      ]
    },
    {
      "cell_type": "code",
      "source": [
        "plt.xlabel(\"column\")\n",
        "plt.ylabel(\"row\")\n",
        "plt.title(\"heatmap\")\n",
        "plt.pcolor(np.array(small_board_ndarray))\n",
        "plt.show()"
      ],
      "metadata": {
        "colab": {
          "base_uri": "https://localhost:8080/",
          "height": 472
        },
        "id": "cUvIaWuM-HNG",
        "outputId": "457f8364-bacf-4e96-b64b-fdbc80d50d0f"
      },
      "execution_count": 40,
      "outputs": [
        {
          "output_type": "display_data",
          "data": {
            "text/plain": [
              "<Figure size 640x480 with 1 Axes>"
            ],
            "image/png": "[encoded data removed]"
          },
          "metadata": {}
        }
      ]
    },
    {
      "cell_type": "markdown",
      "source": [
        "###【問題5】後半は前半の何倍か"
      ],
      "metadata": {
        "id": "Nhl1pzMI_ozi"
      }
    },
    {
      "cell_type": "code",
      "source": [
        "np.sum(small_board_ndarray[:4, :])"
      ],
      "metadata": {
        "colab": {
          "base_uri": "https://localhost:8080/"
        },
        "id": "x3e8ebhE_vdq",
        "outputId": "bcb2f918-8555-44f5-ae78-c85ee747356f"
      },
      "execution_count": 65,
      "outputs": [
        {
          "output_type": "execute_result",
          "data": {
            "text/plain": [
              "4294967295.0"
            ]
          },
          "metadata": {},
          "execution_count": 65
        }
      ]
    },
    {
      "cell_type": "code",
      "source": [
        "np.sum(small_board_ndarray[4:, :])"
      ],
      "metadata": {
        "colab": {
          "base_uri": "https://localhost:8080/"
        },
        "id": "Q4RVHmlMDwcb",
        "outputId": "40803f21-aae1-46f4-fd6f-5c1934e92ee2"
      },
      "execution_count": 66,
      "outputs": [
        {
          "output_type": "execute_result",
          "data": {
            "text/plain": [
              "1.8446744069414584e+19"
            ]
          },
          "metadata": {},
          "execution_count": 66
        }
      ]
    },
    {
      "cell_type": "code",
      "source": [
        "1.8446744069414584e+19 / 4294967295.0"
      ],
      "metadata": {
        "colab": {
          "base_uri": "https://localhost:8080/"
        },
        "id": "Y55r9wDuDyce",
        "outputId": "894543f0-eb1a-4a0c-f3f6-e5cd690e5027"
      },
      "execution_count": 67,
      "outputs": [
        {
          "output_type": "execute_result",
          "data": {
            "text/plain": [
              "4294967296.0"
            ]
          },
          "metadata": {},
          "execution_count": 67
        }
      ]
    },
    {
      "cell_type": "markdown",
      "source": [
        "後半の4行8列は、それぞれの要素が前半の4行8列の2**32乗である。"
      ],
      "metadata": {
        "id": "-IVvry_sD5Lu"
      }
    },
    {
      "cell_type": "markdown",
      "source": [
        "###【問題6】他の計算方法によるｎ×ｍマスへの拡張"
      ],
      "metadata": {
        "id": "vsaNqz2TEhMN"
      }
    },
    {
      "cell_type": "code",
      "source": [
        "# np.append を使う\n",
        "n_squares = 64\n",
        "small_board_ndarray = np.array([1])\n",
        "for _ in range(n_squares - 1):\n",
        "    small_board_ndarray = np.append(small_board_ndarray, 2*small_board_ndarray[-1])\n",
        "small_board_ndarray = np.reshape(small_board_ndarray, (8,8))\n",
        "print(\"8*8マスの板に小麦を並べる（ndarray）：{}\".format(small_board_ndarray))"
      ],
      "metadata": {
        "colab": {
          "base_uri": "https://localhost:8080/"
        },
        "id": "GDRKZezBEvSE",
        "outputId": "638b64e2-9dad-4ff4-e716-07f34407634a"
      },
      "execution_count": 70,
      "outputs": [
        {
          "output_type": "stream",
          "name": "stdout",
          "text": [
            "8*8マスの板に小麦を並べる（ndarray）：[[                   1                    2                    4\n",
            "                     8                   16                   32\n",
            "                    64                  128]\n",
            " [                 256                  512                 1024\n",
            "                  2048                 4096                 8192\n",
            "                 16384                32768]\n",
            " [               65536               131072               262144\n",
            "                524288              1048576              2097152\n",
            "               4194304              8388608]\n",
            " [            16777216             33554432             67108864\n",
            "             134217728            268435456            536870912\n",
            "            1073741824           2147483648]\n",
            " [          4294967296           8589934592          17179869184\n",
            "           34359738368          68719476736         137438953472\n",
            "          274877906944         549755813888]\n",
            " [       1099511627776        2199023255552        4398046511104\n",
            "         8796093022208       17592186044416       35184372088832\n",
            "        70368744177664      140737488355328]\n",
            " [     281474976710656      562949953421312     1125899906842624\n",
            "      2251799813685248     4503599627370496     9007199254740992\n",
            "     18014398509481984    36028797018963968]\n",
            " [   72057594037927936   144115188075855872   288230376151711744\n",
            "    576460752303423488  1152921504606846976  2305843009213693952\n",
            "   4611686018427387904 -9223372036854775808]]\n"
          ]
        },
        {
          "output_type": "stream",
          "name": "stderr",
          "text": [
            "<ipython-input-70-194fe6c4ae7f>:5: RuntimeWarning: overflow encountered in scalar multiply\n",
            "  small_board_ndarray = np.append(small_board_ndarray, 2*small_board_ndarray[-1])\n"
          ]
        }
      ]
    },
    {
      "cell_type": "code",
      "source": [
        "# ブロードキャスト\n",
        "n_squares = 64\n",
        "indices_of_squares = np.arange(n_squares)\n",
        "small_board_ndarray = 2**indices_of_squares\n",
        "small_board_ndarray = np.reshape(small_board_ndarray, (8,8))\n",
        "print(\"4マスの板に小麦を並べる（ndarray）：{}\".format(small_board_ndarray))"
      ],
      "metadata": {
        "colab": {
          "base_uri": "https://localhost:8080/"
        },
        "id": "n8Ss7c5mFkLx",
        "outputId": "ed1f5a28-fd81-4f64-ff0d-76737bef6231"
      },
      "execution_count": 72,
      "outputs": [
        {
          "output_type": "stream",
          "name": "stdout",
          "text": [
            "4マスの板に小麦を並べる（ndarray）：[[                   1                    2                    4\n",
            "                     8                   16                   32\n",
            "                    64                  128]\n",
            " [                 256                  512                 1024\n",
            "                  2048                 4096                 8192\n",
            "                 16384                32768]\n",
            " [               65536               131072               262144\n",
            "                524288              1048576              2097152\n",
            "               4194304              8388608]\n",
            " [            16777216             33554432             67108864\n",
            "             134217728            268435456            536870912\n",
            "            1073741824           2147483648]\n",
            " [          4294967296           8589934592          17179869184\n",
            "           34359738368          68719476736         137438953472\n",
            "          274877906944         549755813888]\n",
            " [       1099511627776        2199023255552        4398046511104\n",
            "         8796093022208       17592186044416       35184372088832\n",
            "        70368744177664      140737488355328]\n",
            " [     281474976710656      562949953421312     1125899906842624\n",
            "      2251799813685248     4503599627370496     9007199254740992\n",
            "     18014398509481984    36028797018963968]\n",
            " [   72057594037927936   144115188075855872   288230376151711744\n",
            "    576460752303423488  1152921504606846976  2305843009213693952\n",
            "   4611686018427387904 -9223372036854775808]]\n"
          ]
        }
      ]
    },
    {
      "cell_type": "code",
      "source": [
        "### 「ndarrayの型」のサンプルコード試用\n",
        "n_squares = 64\n",
        "indices_of_squares = np.arange(n_squares).astype(np.uint64)\n",
        "board_ndarray = 2**indices_of_squares\n",
        "print(\"最後のマスの小麦の数：{}\".format(board_ndarray[-1]))"
      ],
      "metadata": {
        "colab": {
          "base_uri": "https://localhost:8080/"
        },
        "id": "pP5OcuNpGywa",
        "outputId": "07ededd7-22ff-4d63-881a-bd0219516bd1"
      },
      "execution_count": 74,
      "outputs": [
        {
          "output_type": "stream",
          "name": "stdout",
          "text": [
            "最後のマスの小麦の数：9223372036854775808\n"
          ]
        }
      ]
    },
    {
      "cell_type": "markdown",
      "source": [
        "##【問題7】計算時間の比較"
      ],
      "metadata": {
        "id": "pT8jwWqfH4g9"
      }
    },
    {
      "cell_type": "code",
      "source": [
        "%%timeit\n",
        "# 最初に作った関数\n",
        "def board_list(n,m):\n",
        "    small_board_list = [1]\n",
        "    for _ in range(n * m - 1):\n",
        "        small_board_list.append(2 * small_board_list[-1])\n",
        "    small_board_ndarray = np.array(small_board_list)\n",
        "    small_board_ndarray = np.reshape(small_board_ndarray, (n,m))\n",
        "    return small_board_ndarray, \"合計：{}\".format(np.sum(small_board_ndarray))\n",
        "board_list(8,8)"
      ],
      "metadata": {
        "colab": {
          "base_uri": "https://localhost:8080/"
        },
        "id": "R-wlBMLiHReu",
        "outputId": "c606b275-b325-4718-bfe9-3d2f60cae6c4"
      },
      "execution_count": 76,
      "outputs": [
        {
          "output_type": "stream",
          "name": "stdout",
          "text": [
            "25.4 µs ± 786 ns per loop (mean ± std. dev. of 7 runs, 10000 loops each)\n"
          ]
        }
      ]
    },
    {
      "cell_type": "code",
      "source": [
        "%%timeit\n",
        "# np.append を使う\n",
        "n_squares = 64\n",
        "small_board_ndarray = np.array([1])\n",
        "for _ in range(n_squares - 1):\n",
        "    small_board_ndarray = np.append(small_board_ndarray, 2*small_board_ndarray[-1])\n",
        "small_board_ndarray = np.reshape(small_board_ndarray, (8,8))"
      ],
      "metadata": {
        "colab": {
          "base_uri": "https://localhost:8080/"
        },
        "id": "hdWvbaSvHhtS",
        "outputId": "36841e20-068e-42de-e7e3-ad11a6690402"
      },
      "execution_count": 78,
      "outputs": [
        {
          "output_type": "stream",
          "name": "stderr",
          "text": [
            "<magic-timeit>:5: RuntimeWarning: overflow encountered in scalar multiply\n"
          ]
        },
        {
          "output_type": "stream",
          "name": "stdout",
          "text": [
            "351 µs ± 75.8 µs per loop (mean ± std. dev. of 7 runs, 1000 loops each)\n"
          ]
        }
      ]
    },
    {
      "cell_type": "code",
      "source": [
        "%%timeit\n",
        "# ブロードキャスト\n",
        "n_squares = 64\n",
        "indices_of_squares = np.arange(n_squares)\n",
        "small_board_ndarray = 2**indices_of_squares\n",
        "small_board_ndarray = np.reshape(small_board_ndarray, (8,8))"
      ],
      "metadata": {
        "colab": {
          "base_uri": "https://localhost:8080/"
        },
        "id": "cE0XX09nIA61",
        "outputId": "1b97e7d0-92c2-40b9-e581-ea11f73c90db"
      },
      "execution_count": 79,
      "outputs": [
        {
          "output_type": "stream",
          "name": "stdout",
          "text": [
            "5.47 µs ± 659 ns per loop (mean ± std. dev. of 7 runs, 100000 loops each)\n"
          ]
        }
      ]
    },
    {
      "cell_type": "markdown",
      "source": [
        "結果を見ると、for文を回すよりもブロードキャストを用いている3つ目のプログラムが最も実行速度が速い。\n",
        "for文を用いた2つに関しては、Pythonのリストを作成する方がndarrayを用いるよりもオーダー1つ分速く実行することができる。\n",
        "numpyのデータ自動統一機能は大幅に計算時間を短くすることから、大きな値や多くの値を扱う時に非常に有効なメソッドということが分かった。"
      ],
      "metadata": {
        "id": "e8q45xV6IbtJ"
      }
    }
  ]
}