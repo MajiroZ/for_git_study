{
  "nbformat": 4,
  "nbformat_minor": 0,
  "metadata": {
    "colab": {
      "provenance": [],
      "authorship_tag": "ABX9TyNWzz1QAil/sz63q+bPJ/pC",
      "include_colab_link": true
    },
    "kernelspec": {
      "name": "python3",
      "display_name": "Python 3"
    },
    "language_info": {
      "name": "python"
    }
  },
  "cells": [
    {
      "cell_type": "markdown",
      "metadata": {
        "id": "view-in-github",
        "colab_type": "text"
      },
      "source": [
        "<a href=\"https://colab.research.google.com/github/MajiroZ/for_git_study/blob/master/%E7%B4%99%E6%8A%98%E5%95%8F%E9%A1%8C.ipynb\" target=\"_parent\"><img src=\"https://colab.research.google.com/assets/colab-badge.svg\" alt=\"Open In Colab\"/></a>"
      ]
    },
    {
      "cell_type": "markdown",
      "source": [
        "【問題1】べき乗の算術演算子を使用した実装\n",
        "【問題2】単位の変換"
      ],
      "metadata": {
        "id": "899IkE7kEeUa"
      }
    },
    {
      "cell_type": "code",
      "source": [
        "# 紙を43回折った時の厚さを計算するコード\n",
        "\n",
        "THICKNESS = 0.00008\n",
        "\n",
        "folded_thickness = THICKNESS * (2**43)\n",
        "\n",
        "# メートルを万キロメートルに変換して小数点以下2桁で表示する\n",
        "print(\"厚さ : {:.2f}[万km]\".format(folded_thickness / 1000 /10000))"
      ],
      "metadata": {
        "colab": {
          "base_uri": "https://localhost:8080/"
        },
        "id": "5XukK1ZN8mRx",
        "outputId": "19ef39ed-106c-4340-c3f5-5a24201866b1"
      },
      "execution_count": 12,
      "outputs": [
        {
          "output_type": "stream",
          "name": "stdout",
          "text": [
            "厚さ : 70.37[万km]\n"
          ]
        }
      ]
    },
    {
      "cell_type": "markdown",
      "source": [
        "月までの距離384,400kmよりも大きな値になった。"
      ],
      "metadata": {
        "id": "QLaQ15dmE2Ub"
      }
    },
    {
      "cell_type": "markdown",
      "source": [
        "【問題3】for文を使用して作成"
      ],
      "metadata": {
        "id": "gKMtdN3PExqz"
      }
    },
    {
      "cell_type": "code",
      "execution_count": 11,
      "metadata": {
        "colab": {
          "base_uri": "https://localhost:8080/"
        },
        "id": "ODq1_2zX6m25",
        "outputId": "9de2cc91-ada6-4b42-e2c0-fa7eea2f90f2"
      },
      "outputs": [
        {
          "output_type": "stream",
          "name": "stdout",
          "text": [
            "厚さ : 70.37[万km]\n"
          ]
        }
      ],
      "source": [
        "THICKNESS = 0.00008\n",
        "\n",
        "folded_thickness = THICKNESS * 2\n",
        "for i in range(42):\n",
        "    folded_thickness = folded_thickness * 2\n",
        "# メートルを万キロメートルに変換して小数点以下2桁で表示する\n",
        "print(\"厚さ : {:.2f}[万km]\".format(folded_thickness / 1000 /10000))"
      ]
    },
    {
      "cell_type": "markdown",
      "source": [
        "【問題4】計算時間の比較"
      ],
      "metadata": {
        "id": "yxLlMEIeFCYU"
      }
    },
    {
      "cell_type": "code",
      "source": [
        "import time\n",
        "start = time.time()\n",
        "#####\n",
        "folded_thickness = THICKNESS * (2**1000)\n",
        "#####\n",
        "elapsed_time = time.time() - start\n",
        "print(\"time : {}[s]\".format(elapsed_time))"
      ],
      "metadata": {
        "colab": {
          "base_uri": "https://localhost:8080/"
        },
        "id": "xvNKnygz8EYK",
        "outputId": "d4217e2e-a51c-4819-d64a-59a7944ce00c"
      },
      "execution_count": 18,
      "outputs": [
        {
          "output_type": "stream",
          "name": "stdout",
          "text": [
            "time : 0.00012135505676269531[s]\n"
          ]
        }
      ]
    },
    {
      "cell_type": "code",
      "source": [
        "import time\n",
        "start = time.time()\n",
        "#####\n",
        "folded_thickness = THICKNESS * 2\n",
        "for i in range(999):\n",
        "    folded_thickness = folded_thickness * 2\n",
        "#####\n",
        "elapsed_time = time.time() - start\n",
        "print(\"time : {}[s]\".format(elapsed_time))"
      ],
      "metadata": {
        "colab": {
          "base_uri": "https://localhost:8080/"
        },
        "id": "z8GNEswp-VSl",
        "outputId": "761d3d19-c12a-4601-d7d3-02d6d59aa18d"
      },
      "execution_count": 17,
      "outputs": [
        {
          "output_type": "stream",
          "name": "stdout",
          "text": [
            "time : 0.0004177093505859375[s]\n"
          ]
        }
      ]
    },
    {
      "cell_type": "markdown",
      "source": [
        "【問題5】リストへの保存"
      ],
      "metadata": {
        "id": "Qw1S0izZFIyf"
      }
    },
    {
      "cell_type": "code",
      "source": [
        "THICKNESS = 0.00008\n",
        "\n",
        "list_thickness = []\n",
        "\n",
        "for i in range(44):\n",
        "    folded_thickness = THICKNESS * (2**i)\n",
        "    list_thickness.append(folded_thickness)\n",
        "\n",
        "print(\"厚さ : {:.2f}[万km]\".format(folded_thickness / 1000 /10000))\n",
        "len(list_thickness)"
      ],
      "metadata": {
        "colab": {
          "base_uri": "https://localhost:8080/"
        },
        "id": "NIPGhgAS_oAr",
        "outputId": "ba31c2ea-2abc-46c6-b1e4-11ef03527f30"
      },
      "execution_count": 25,
      "outputs": [
        {
          "output_type": "stream",
          "name": "stdout",
          "text": [
            "厚さ : 70.37[万km]\n"
          ]
        },
        {
          "output_type": "execute_result",
          "data": {
            "text/plain": [
              "44"
            ]
          },
          "metadata": {},
          "execution_count": 25
        }
      ]
    },
    {
      "cell_type": "code",
      "source": [
        "【問題6】折れ線グラフの表示\n",
        "【問題7】グラフのカスタマイズ"
      ],
      "metadata": {
        "id": "bj-KK9c3FNpe"
      },
      "execution_count": null,
      "outputs": []
    },
    {
      "cell_type": "code",
      "source": [
        "import matplotlib.pyplot as plt\n",
        "%matplotlib inline\n",
        "\n",
        "# グラフを表示する。タイトルと軸ラベル名付き。\n",
        "plt.title(\"thickness of folded paper\")\n",
        "plt.xlabel(\"number of folds\")\n",
        "plt.ylabel(\"thickness [m]\")\n",
        "plt.tick_params(labelsize=15) #軸の値に関する設定を行う\n",
        "plt.plot(list_thickness, color='red')  # 「リスト名」のところにリストの変数名を入れる\n",
        "plt.show()"
      ],
      "metadata": {
        "colab": {
          "base_uri": "https://localhost:8080/",
          "height": 478
        },
        "id": "RLIKsuHH7jk_",
        "outputId": "35178fe4-c171-49f6-c79d-a4f93581f67b"
      },
      "execution_count": 29,
      "outputs": [
        {
          "output_type": "display_data",
          "data": {
            "text/plain": [
              "<Figure size 640x480 with 1 Axes>"
            ],
            "image/png": "[encoded data removed]"
          },
          "metadata": {}
        }
      ]
    }
  ]
}