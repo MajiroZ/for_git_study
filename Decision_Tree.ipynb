{
  "nbformat": 4,
  "nbformat_minor": 0,
  "metadata": {
    "colab": {
      "provenance": [],
      "authorship_tag": "ABX9TyOPZSdX5y9wSXrpbpZq7pWh",
      "include_colab_link": true
    },
    "kernelspec": {
      "name": "python3",
      "display_name": "Python 3"
    },
    "language_info": {
      "name": "python"
    }
  },
  "cells": [
    {
      "cell_type": "markdown",
      "metadata": {
        "id": "view-in-github",
        "colab_type": "text"
      },
      "source": [
        "<a href=\"https://colab.research.google.com/github/MajiroZ/for_git_study/blob/master/Decision_Tree.ipynb\" target=\"_parent\"><img src=\"https://colab.research.google.com/assets/colab-badge.svg\" alt=\"Open In Colab\"/></a>"
      ]
    },
    {
      "cell_type": "code",
      "source": [
        "class ScratchDecesionTreeClassifierDepth1():\n",
        "  \"\"\"\n",
        "  深さ1の決定木分類器のスクラッチ実装\n",
        "  \"\"\"\n",
        "\n",
        "  def __init__(self, verbose=False):\n",
        "      self.verbose = verbose\n",
        "\n",
        "  #【問題3】学習\n",
        "  def fit(self, X, y):\n",
        "    self.gain = 0\n",
        "    for feature_index in range(X.shape[1]):\n",
        "        self.thresholds = np.unique(X[:,feature_index])\n",
        "        for threshold in self.thresholds:\n",
        "            _gain = self._calc_ig(X,feature_index,y,threshold)\n",
        "            if _gain > self.gain:\n",
        "                self.l_label = collections.Counter(y[X[:,feature_index] < threshold]).most_common()[0][0]\n",
        "                self.r_label = collections.Counter(y[X[:,feature_index] >= threshold]).most_common()[0][0]\n",
        "                self.feature = feature_index\n",
        "                self.threshold = threshold\n",
        "                self.gain = _gain\n",
        "                if self.verbose:\n",
        "                    print('feature',self.feature,'threshold',self.threshold,'gain',self.gain)\n",
        "\n",
        "  #【問題4】推定\n",
        "  def predict(self, X):\n",
        "    prediction = np.where(X[:,self.feature] < self.threshold,self.l_label,self.r_label)\n",
        "    return prediction\n",
        "\n",
        "  # 【問題1】不純度を求める関数\n",
        "  def _calc_gini(self,y):\n",
        "    labels,counts = np.unique(y,return_counts=True)\n",
        "    _gini = 0\n",
        "    for label in labels:\n",
        "        _gini += (counts[labels==label]/np.sum(counts))**2\n",
        "    gini = 1 - _gini\n",
        "    return gini\n",
        "\n",
        "  # 【問題2】情報利得を求める関数\n",
        "  def _calc_ig(self,X,feature_index,y,threshold):\n",
        "    labels_l = y[X[:,feature_index] < threshold]\n",
        "    labels_r = y[X[:,feature_index] >= threshold]\n",
        "    gain_l = (len(labels_l)/(len(labels_l)+len(labels_r)))*self._calc_gini(labels_l)\n",
        "    gain_r = (len(labels_r)/(len(labels_l)+len(labels_r)))*self._calc_gini(labels_r)\n",
        "    gain = self._calc_gini(y) -gain_l -gain_r\n",
        "    return gain"
      ],
      "metadata": {
        "id": "xIK2jpdBjtOv"
      },
      "execution_count": 44,
      "outputs": []
    },
    {
      "cell_type": "markdown",
      "source": [
        "##【問題5】学習と推定"
      ],
      "metadata": {
        "id": "vpk6yhSVn588"
      }
    },
    {
      "cell_type": "code",
      "source": [
        "# ライブラリの読み込みとデータの準備\n",
        "import numpy as np\n",
        "import pandas as pd\n",
        "import collections\n",
        "from sklearn.datasets import load_iris\n",
        "from sklearn.model_selection import train_test_split\n",
        "iris_dataset = load_iris()\n",
        "X_train, X_test, y_train, y_test = train_test_split(iris_dataset['data'], iris_dataset['target'],test_size=0.3, random_state=0)"
      ],
      "metadata": {
        "id": "qfba_etmn_vm"
      },
      "execution_count": 45,
      "outputs": []
    },
    {
      "cell_type": "code",
      "source": [
        "# 学習を実行\n",
        "clf = ScratchDecesionTreeClassifierDepth1(verbose = True)\n",
        "clf.fit(X_train_2features,y_train)"
      ],
      "metadata": {
        "colab": {
          "base_uri": "https://localhost:8080/"
        },
        "id": "JVBOp_inoGwd",
        "outputId": "a184a7e9-bd5d-4e88-aa76-a99fa8c51cb3"
      },
      "execution_count": 52,
      "outputs": [
        {
          "output_type": "stream",
          "name": "stdout",
          "text": [
            "feature 0 threshold 1.2 gain [0.00661608]\n",
            "feature 0 threshold 1.3 gain [0.02023743]\n",
            "feature 0 threshold 1.4 gain [0.04914804]\n",
            "feature 0 threshold 1.5 gain [0.12369844]\n",
            "feature 0 threshold 1.6 gain [0.22645426]\n",
            "feature 0 threshold 1.7 gain [0.28824661]\n",
            "feature 0 threshold 3.0 gain [0.32949954]\n"
          ]
        }
      ]
    },
    {
      "cell_type": "code",
      "source": [
        "train_prediction = clf.predict(X_train)"
      ],
      "metadata": {
        "id": "vH_iCSlxpqdc"
      },
      "execution_count": 53,
      "outputs": []
    },
    {
      "cell_type": "code",
      "source": [
        "from sklearn.metrics import accuracy_score\n",
        "accuracy_score(y_train, train_prediction)\n",
        "from sklearn.metrics import precision_score\n",
        "precision_score(y_train, train_prediction, average='micro')\n",
        "from sklearn.metrics import recall_score\n",
        "recall_score(y_train, train_prediction, average='micro')"
      ],
      "metadata": {
        "colab": {
          "base_uri": "https://localhost:8080/"
        },
        "id": "m4VeisBapt-m",
        "outputId": "c7530c96-0327-44a9-ca33-791fafc04bfd"
      },
      "execution_count": 54,
      "outputs": [
        {
          "output_type": "execute_result",
          "data": {
            "text/plain": [
              "0.37142857142857144"
            ]
          },
          "metadata": {},
          "execution_count": 54
        }
      ]
    },
    {
      "cell_type": "markdown",
      "source": [
        "##【問題6】決定領域の可視化"
      ],
      "metadata": {
        "id": "gCbB0M4OqAqO"
      }
    },
    {
      "cell_type": "code",
      "source": [
        "import numpy as np\n",
        "import pandas as pd\n",
        "import collections\n",
        "from sklearn.datasets import load_iris\n",
        "from sklearn.model_selection import train_test_split\n",
        "import matplotlib.pyplot as plt\n",
        "from matplotlib.colors import ListedColormap\n",
        "import matplotlib.patches as mpatches\n",
        "\n",
        "# Irisデータセットの読み込み\n",
        "iris_dataset = load_iris()\n",
        "\n",
        "# versicolorとvirginicaのデータのみを抽出\n",
        "X = iris_dataset.data[iris_dataset.target != 0]\n",
        "y = iris_dataset.target[iris_dataset.target != 0]\n",
        "\n",
        "# sepal width (cm)とpetal length (cm)のデータのみを抽出\n",
        "X = X[:, [1, 3]]\n",
        "\n",
        "# データを訓練データとテストデータに分割\n",
        "X_train, X_test, y_train, y_test = train_test_split(X, y, test_size=0.3, random_state=0)\n",
        "\n",
        "# 学習と推定\n",
        "clf = ScratchDecesionTreeClassifierDepth1(verbose=True)\n",
        "clf.fit(X_train, y_train)\n",
        "train_prediction = clf.predict(X_train)\n",
        "\n",
        "# 決定領域の可視化 (target_namesを変更)\n",
        "def decision_region(X, y, model, step=0.01, title='decision region', xlabel='xlabel', ylabel='ylabel', target_names=['versicolor', 'virginica']):\n",
        "    \"\"\"\n",
        "    2値分類の決定領域を描画する。\n",
        "    \"\"\"\n",
        "    # setting\n",
        "    scatter_color = ['red', 'blue']\n",
        "    contourf_color = ['pink', 'skyblue']\n",
        "    n_class = 2\n",
        "\n",
        "    # meshgridで各特徴量を格子状に分割\n",
        "    mesh_f0, mesh_f1  = np.meshgrid(np.arange(np.min(X[:,0])-0.5, np.max(X[:,0])+0.5, step), np.arange(np.min(X[:,1])-0.5, np.max(X[:,1])+0.5, step))\n",
        "    mesh = np.c_[np.ravel(mesh_f0),np.ravel(mesh_f1)]\n",
        "\n",
        "    # モデルで予測\n",
        "    y_pred = model.predict(mesh).reshape(mesh_f0.shape)\n",
        "\n",
        "    # plot\n",
        "    plt.figure()\n",
        "    plt.title(title)\n",
        "    plt.xlabel(xlabel)\n",
        "    plt.ylabel(ylabel)\n",
        "\n",
        "    # contourfで決定領域を描画\n",
        "    plt.contourf(mesh_f0, mesh_f1, y_pred, n_class-1, cmap=ListedColormap(contourf_color))\n",
        "    plt.contour(mesh_f0, mesh_f1, y_pred, n_class-1, colors='k', linewidths=1)\n",
        "\n",
        "    # scatterで学習データを描画\n",
        "    for i, target in enumerate(set(y)):\n",
        "        plt.scatter(X[y==target][:, 0], X[y==target][:, 1], s=80, color=scatter_color[i], label=target_names[i], marker='o')\n",
        "\n",
        "    # 凡例を表示\n",
        "    patches = [mpatches.Patch(color=scatter_color[i], label=target_names[i]) for i in range(n_class)]\n",
        "    plt.legend(handles=patches)\n",
        "    plt.legend()\n",
        "    plt.show()\n",
        "\n",
        "# 決定領域の可視化 (target_namesを指定)\n",
        "decision_region(X_train, y_train, clf, step=0.01, title='decision region', xlabel='sepal width (cm)', ylabel='petal length (cm)', target_names=['versicolor', 'virginica'])"
      ],
      "metadata": {
        "colab": {
          "base_uri": "https://localhost:8080/",
          "height": 723
        },
        "id": "_P2SHbKazNQU",
        "outputId": "63baf217-12aa-4d9c-aa41-532dd97fd11c"
      },
      "execution_count": 63,
      "outputs": [
        {
          "output_type": "stream",
          "name": "stdout",
          "text": [
            "feature 0 threshold 2.2 gain [0.00724638]\n",
            "feature 0 threshold 2.3 gain [0.00757576]\n",
            "feature 0 threshold 2.4 gain [0.01384615]\n",
            "feature 0 threshold 2.5 gain [0.02083333]\n",
            "feature 0 threshold 3.0 gain [0.03316953]\n",
            "feature 0 threshold 3.3 gain [0.03629032]\n",
            "feature 1 threshold 1.1 gain [0.03846154]\n",
            "feature 1 threshold 1.2 gain [0.046875]\n",
            "feature 1 threshold 1.3 gain [0.08333333]\n",
            "feature 1 threshold 1.4 gain [0.2]\n",
            "feature 1 threshold 1.5 gain [0.25174825]\n",
            "feature 1 threshold 1.6 gain [0.34326531]\n",
            "feature 1 threshold 1.7 gain [0.34438984]\n",
            "feature 1 threshold 1.8 gain [0.34780811]\n"
          ]
        },
        {
          "output_type": "display_data",
          "data": {
            "text/plain": [
              "<Figure size 640x480 with 1 Axes>"
            ],
            "image/png": "[encoded data removed]"
          },
          "metadata": {}
        }
      ]
    },
    {
      "cell_type": "markdown",
      "source": [
        "##【問題7】深さ2の決定木分類器のクラスの作成"
      ],
      "metadata": {
        "id": "6o4NnD--7W_S"
      }
    },
    {
      "cell_type": "code",
      "source": [
        "# 深さが2の決定木分類器のクラスScratchDecisionTreeClassifierDepth2を作成する\n",
        "\n",
        "class ScratchDecisionTreeClassifierDepth2():\n",
        "    \"\"\"\n",
        "    深さ2の決定木分類器のスクラッチ実装\n",
        "\n",
        "    Parameters\n",
        "    ----------\n",
        "    verbose : bool\n",
        "      学習過程を出力する場合はTrue\n",
        "    \"\"\"\n",
        "    def __init__(self, verbose=False):\n",
        "        self.verbose = verbose\n",
        "        self.tree = {}\n",
        "\n",
        "    def fit(self, X, y):\n",
        "        self._build_tree(X, y, 0)\n",
        "\n",
        "    def _build_tree(self, X, y, depth):\n",
        "        if depth == 2 or len(set(y)) == 1:\n",
        "            self.tree[depth] = collections.Counter(y).most_common()[0][0]\n",
        "            return\n",
        "\n",
        "        best_feature, best_threshold, best_gain = self._find_best_split(X, y)\n",
        "\n",
        "        if best_gain == 0:  # 情報利得が0の場合は、多数決で決定\n",
        "            self.tree[depth] = collections.Counter(y).most_common()[0][0]\n",
        "            return\n",
        "\n",
        "        self.tree[depth] = {'feature': best_feature,\n",
        "                           'threshold': best_threshold}\n",
        "\n",
        "        X_left = X[X[:, best_feature] < best_threshold]\n",
        "        y_left = y[X[:, best_feature] < best_threshold]\n",
        "        self._build_tree(X_left, y_left, depth + 1)\n",
        "\n",
        "        X_right = X[X[:, best_feature] >= best_threshold]\n",
        "        y_right = y[X[:, best_feature] >= best_threshold]\n",
        "        self._build_tree(X_right, y_right, depth + 1)\n",
        "\n",
        "    def _find_best_split(self, X, y):\n",
        "        best_feature = None\n",
        "        best_threshold = None\n",
        "        best_gain = 0\n",
        "\n",
        "        for feature_index in range(X.shape[1]):\n",
        "            thresholds = np.unique(X[:, feature_index])\n",
        "            for threshold in thresholds:\n",
        "                gain = self._calc_ig(X, feature_index, y, threshold)\n",
        "                if gain > best_gain:\n",
        "                    best_gain = gain\n",
        "                    best_feature = feature_index\n",
        "                    best_threshold = threshold\n",
        "        return best_feature, best_threshold, best_gain\n",
        "\n",
        "    def _calc_gini(self, y):\n",
        "        labels, counts = np.unique(y, return_counts=True)\n",
        "        _gini = 0\n",
        "        for label in labels:\n",
        "            _gini += (counts[labels == label] / np.sum(counts)) ** 2\n",
        "        gini = 1 - _gini\n",
        "        return gini\n",
        "\n",
        "    def _calc_ig(self, X, feature_index, y, threshold):\n",
        "        labels_l = y[X[:, feature_index] < threshold]\n",
        "        labels_r = y[X[:, feature_index] >= threshold]\n",
        "        gain_l = (len(labels_l) / (len(labels_l) + len(labels_r))) * self._calc_gini(labels_l)\n",
        "        gain_r = (len(labels_r) / (len(labels_l) + len(labels_r))) * self._calc_gini(labels_r)\n",
        "        gain = self._calc_gini(y) - gain_l - gain_r\n",
        "        return gain\n",
        "\n",
        "    def predict(self, X):\n",
        "        predictions = []\n",
        "        for x in X:\n",
        "            predictions.append(self._predict_single(x))\n",
        "        return np.array(predictions)\n",
        "\n",
        "\n",
        "    def _predict_single(self, x):\n",
        "        current_node = self.tree\n",
        "        depth = 0\n",
        "        while depth in current_node and isinstance(current_node[depth], dict):\n",
        "            feature = current_node[depth]['feature']\n",
        "            threshold = current_node[depth]['threshold']\n",
        "\n",
        "            if x[feature] < threshold:\n",
        "                depth += 1\n",
        "            else:\n",
        "                depth += 1\n",
        "        if depth in current_node:\n",
        "            return current_node[depth]\n",
        "        else:\n",
        "            return current_node.get(depth, 0)"
      ],
      "metadata": {
        "id": "ee60IUVixqkD"
      },
      "execution_count": 77,
      "outputs": []
    },
    {
      "cell_type": "code",
      "source": [
        "# ScratchDecisionTreeClassifierDepth2をIrisデータセットに適用してみる\n",
        "\n",
        "# Irisデータセットの読み込み\n",
        "iris_dataset = load_iris()\n",
        "\n",
        "# データを訓練データとテストデータに分割\n",
        "X_train, X_test, y_train, y_test = train_test_split(\n",
        "    iris_dataset['data'], iris_dataset['target'], test_size=0.3, random_state=0\n",
        ")\n",
        "\n",
        "# 学習と推定\n",
        "clf = ScratchDecisionTreeClassifierDepth2(verbose=True)\n",
        "clf.fit(X_train, y_train)\n",
        "y_pred = clf.predict(X_test)\n",
        "\n",
        "# 精度の評価\n",
        "accuracy = accuracy_score(y_test, y_pred)\n",
        "precision = precision_score(y_test, y_pred, average='macro')\n",
        "recall = recall_score(y_test, y_pred, average='macro')\n",
        "\n",
        "print(f\"Accuracy: {accuracy}\")\n",
        "print(f\"Precision: {precision}\")\n",
        "print(f\"Recall: {recall}\")"
      ],
      "metadata": {
        "colab": {
          "base_uri": "https://localhost:8080/"
        },
        "id": "zkfZWXZe4w_u",
        "outputId": "2f1d5231-3fb4-41d6-b9e6-2abeba056806"
      },
      "execution_count": 78,
      "outputs": [
        {
          "output_type": "stream",
          "name": "stdout",
          "text": [
            "Accuracy: 0.24444444444444444\n",
            "Precision: 0.08148148148148147\n",
            "Recall: 0.3333333333333333\n"
          ]
        },
        {
          "output_type": "stream",
          "name": "stderr",
          "text": [
            "/usr/local/lib/python3.10/dist-packages/sklearn/metrics/_classification.py:1531: UndefinedMetricWarning: Precision is ill-defined and being set to 0.0 in labels with no predicted samples. Use `zero_division` parameter to control this behavior.\n",
            "  _warn_prf(average, modifier, f\"{metric.capitalize()} is\", len(result))\n"
          ]
        }
      ]
    },
    {
      "cell_type": "markdown",
      "source": [
        "とてもAccuracyが低く出てしまったが、技術不足で原因が分からず、一旦進めることとする。"
      ],
      "metadata": {
        "id": "N8Hy2g7b7dWq"
      }
    },
    {
      "cell_type": "markdown",
      "source": [
        "##【問題8】深さに制限のない決定木分類器クラスの作成"
      ],
      "metadata": {
        "id": "c2b--cUB7mlu"
      }
    },
    {
      "cell_type": "code",
      "source": [
        "# 任意の深さが指定できる決定木分類器のクラスScratchDecesionTreeClassifierDepthInf\n",
        "\n",
        "import numpy as np\n",
        "import collections\n",
        "\n",
        "class ScratchDecesionTreeClassifierDepthInf():\n",
        "    \"\"\"\n",
        "    任意の深さが指定できる決定木分類器\n",
        "    指定しない場合はすべての葉ノードがジニ不純度0となるまで続ける\n",
        "    \"\"\"\n",
        "    def __init__(self, verbose=False):\n",
        "        self.verbose = verbose\n",
        "        self.tree = {}\n",
        "\n",
        "    def fit(self, X, y):\n",
        "        self._build_tree(X, y, 0)\n",
        "\n",
        "    def _build_tree(self, X, y, depth):\n",
        "        if len(set(y)) == 1:  # ジニ不純度が0の場合\n",
        "            self.tree[depth] = collections.Counter(y).most_common()[0][0]\n",
        "            return\n",
        "\n",
        "        best_feature, best_threshold, best_gain = self._find_best_split(X, y)\n",
        "\n",
        "        if best_gain == 0:  # 情報利得が0の場合は、多数決で決定\n",
        "            self.tree[depth] = collections.Counter(y).most_common()[0][0]\n",
        "            return\n",
        "\n",
        "        self.tree[depth] = {'feature': best_feature,\n",
        "                           'threshold': best_threshold}\n",
        "\n",
        "        X_left = X[X[:, best_feature] < best_threshold]\n",
        "        y_left = y[X[:, best_feature] < best_threshold]\n",
        "        self._build_tree(X_left, y_left, depth + 1)\n",
        "\n",
        "        X_right = X[X[:, best_feature] >= best_threshold]\n",
        "        y_right = y[X[:, best_feature] >= best_threshold]\n",
        "        self._build_tree(X_right, y_right, depth + 1)\n",
        "\n",
        "    def _find_best_split(self, X, y):\n",
        "        best_feature = None\n",
        "        best_threshold = None\n",
        "        best_gain = 0\n",
        "\n",
        "        for feature_index in range(X.shape[1]):\n",
        "            thresholds = np.unique(X[:, feature_index])\n",
        "            for threshold in thresholds:\n",
        "                gain = self._calc_ig(X, feature_index, y, threshold)\n",
        "                if gain > best_gain:\n",
        "                    best_gain = gain\n",
        "                    best_feature = feature_index\n",
        "                    best_threshold = threshold\n",
        "        return best_feature, best_threshold, best_gain\n",
        "\n",
        "    def _calc_gini(self, y):\n",
        "        labels, counts = np.unique(y, return_counts=True)\n",
        "        _gini = 0\n",
        "        for label in labels:\n",
        "            _gini += (counts[labels == label] / np.sum(counts)) ** 2\n",
        "        gini = 1 - _gini\n",
        "        return gini\n",
        "\n",
        "    def _calc_ig(self, X, feature_index, y, threshold):\n",
        "        labels_l = y[X[:, feature_index] < threshold]\n",
        "        labels_r = y[X[:, feature_index] >= threshold]\n",
        "        gain_l = (len(labels_l) / (len(labels_l) + len(labels_r))) * self._calc_gini(labels_l)\n",
        "        gain_r = (len(labels_r) / (len(labels_l) + len(labels_r))) * self._calc_gini(labels_r)\n",
        "        gain = self._calc_gini(y) - gain_l - gain_r\n",
        "        return gain\n",
        "\n",
        "    def predict(self, X):\n",
        "        predictions = []\n",
        "        for x in X:\n",
        "            predictions.append(self._predict_single(x))\n",
        "        return np.array(predictions)\n",
        "\n",
        "    def _predict_single(self, x):\n",
        "        current_node = self.tree\n",
        "        depth = 0\n",
        "        while depth in current_node and isinstance(current_node[depth], dict):\n",
        "            feature = current_node[depth]['feature']\n",
        "            threshold = current_node[depth]['threshold']\n",
        "            if x[feature] < threshold:\n",
        "                depth += 1\n",
        "            else:\n",
        "                depth += 1\n",
        "        if depth in current_node:\n",
        "            return current_node[depth]\n",
        "        else:\n",
        "            # 深さが足りない場合は、デフォルトで0を返す\n",
        "            return 0"
      ],
      "metadata": {
        "id": "_i30hXB56mnj"
      },
      "execution_count": 79,
      "outputs": []
    }
  ]
}