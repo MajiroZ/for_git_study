{
  "nbformat": 4,
  "nbformat_minor": 0,
  "metadata": {
    "colab": {
      "provenance": [],
      "authorship_tag": "ABX9TyMM5p1paS7MyeHrExx1jTCk",
      "include_colab_link": true
    },
    "kernelspec": {
      "name": "python3",
      "display_name": "Python 3"
    },
    "language_info": {
      "name": "python"
    }
  },
  "cells": [
    {
      "cell_type": "markdown",
      "metadata": {
        "id": "view-in-github",
        "colab_type": "text"
      },
      "source": [
        "<a href=\"https://colab.research.google.com/github/MajiroZ/for_git_study/blob/master/Seq2Seq_Q2.ipynb\" target=\"_parent\"><img src=\"https://colab.research.google.com/assets/colab-badge.svg\" alt=\"Open In Colab\"/></a>"
      ]
    },
    {
      "cell_type": "markdown",
      "source": [
        "#【問題2】イメージキャプショニングの学習済みモデルの実行"
      ],
      "metadata": {
        "id": "-F5D7ViOo_GW"
      }
    },
    {
      "cell_type": "code",
      "source": [
        "# 必要なディレクトリを作成\n",
        "!mkdir -p ./models\n",
        "!mkdir -p ./data"
      ],
      "metadata": {
        "id": "PrB2Tr68YDJc"
      },
      "execution_count": 36,
      "outputs": []
    },
    {
      "cell_type": "code",
      "source": [
        "# アップロードしたファイルを移動\n",
        "!mv /encoder-5-3000.pkl ./models/\n",
        "!mv /decoder-5-3000.pkl ./models/\n",
        "!mv /vocab.pkl ./data/"
      ],
      "metadata": {
        "id": "qM5WKfX9hFmh",
        "colab": {
          "base_uri": "https://localhost:8080/"
        },
        "outputId": "7bd9b78c-ea6c-4982-c662-6df80f3c6c45"
      },
      "execution_count": 37,
      "outputs": [
        {
          "output_type": "stream",
          "name": "stdout",
          "text": [
            "mv: cannot stat '/encoder-5-3000.pkl': No such file or directory\n",
            "mv: cannot stat '/decoder-5-3000.pkl': No such file or directory\n",
            "mv: cannot stat '/vocab.pkl': No such file or directory\n"
          ]
        }
      ]
    },
    {
      "cell_type": "code",
      "source": [
        "!ls ./models/\n",
        "!ls ./data/"
      ],
      "metadata": {
        "colab": {
          "base_uri": "https://localhost:8080/"
        },
        "id": "9depGVxdfYrD",
        "outputId": "0404a693-81d1-41db-d91b-72489193b48b"
      },
      "execution_count": 38,
      "outputs": [
        {
          "output_type": "stream",
          "name": "stdout",
          "text": [
            "decoder-5-3000.pkl  encoder-5-3000.pkl\n",
            "vocab.pkl\n"
          ]
        }
      ]
    },
    {
      "cell_type": "code",
      "source": [
        "!ls"
      ],
      "metadata": {
        "id": "TFR5BVbRikIB",
        "outputId": "965e9948-cc7b-41a6-ac88-547a495b89ff",
        "colab": {
          "base_uri": "https://localhost:8080/"
        }
      },
      "execution_count": 39,
      "outputs": [
        {
          "output_type": "stream",
          "name": "stdout",
          "text": [
            "build_vocab.py\tdata_loader.py\tmodel.py  png\t       README.md\t resize.py  train.py\n",
            "data\t\tdownload.sh\tmodels\t  __pycache__  requirements.txt  sample.py\n"
          ]
        }
      ]
    },
    {
      "cell_type": "code",
      "source": [
        "# %cd /content/pytorch-tutorial/tutorials/03-advanced/image_captioning/"
      ],
      "metadata": {
        "id": "NJ6acRM5iZV4"
      },
      "execution_count": 40,
      "outputs": []
    },
    {
      "cell_type": "code",
      "source": [
        "!python sample.py --image='png/example.png'"
      ],
      "metadata": {
        "colab": {
          "base_uri": "https://localhost:8080/"
        },
        "id": "_2WAlPN7hlne",
        "outputId": "9e0bfb67-b8c7-48c9-b694-8ed07b0c99a8"
      },
      "execution_count": 41,
      "outputs": [
        {
          "output_type": "stream",
          "name": "stdout",
          "text": [
            "/usr/local/lib/python3.10/dist-packages/torchvision/models/_utils.py:208: UserWarning: The parameter 'pretrained' is deprecated since 0.13 and may be removed in the future, please use 'weights' instead.\n",
            "  warnings.warn(\n",
            "/usr/local/lib/python3.10/dist-packages/torchvision/models/_utils.py:223: UserWarning: Arguments other than a weight enum or `None` for 'weights' are deprecated since 0.13 and may be removed in the future. The current behavior is equivalent to passing `weights=ResNet152_Weights.IMAGENET1K_V1`. You can also use `weights=ResNet152_Weights.DEFAULT` to get the most up-to-date weights.\n",
            "  warnings.warn(msg)\n",
            "/content/pytorch-tutorial/tutorials/03-advanced/image_captioning/sample.py:43: FutureWarning: You are using `torch.load` with `weights_only=False` (the current default value), which uses the default pickle module implicitly. It is possible to construct malicious pickle data which will execute arbitrary code during unpickling (See https://github.com/pytorch/pytorch/blob/main/SECURITY.md#untrusted-models for more details). In a future release, the default value for `weights_only` will be flipped to `True`. This limits the functions that could be executed during unpickling. Arbitrary objects will no longer be allowed to be loaded via this mode unless they are explicitly allowlisted by the user via `torch.serialization.add_safe_globals`. We recommend you start setting `weights_only=True` for any use case where you don't have full control of the loaded file. Please open an issue on GitHub for any issues related to this experimental feature.\n",
            "  encoder.load_state_dict(torch.load(args.encoder_path))\n",
            "/content/pytorch-tutorial/tutorials/03-advanced/image_captioning/sample.py:44: FutureWarning: You are using `torch.load` with `weights_only=False` (the current default value), which uses the default pickle module implicitly. It is possible to construct malicious pickle data which will execute arbitrary code during unpickling (See https://github.com/pytorch/pytorch/blob/main/SECURITY.md#untrusted-models for more details). In a future release, the default value for `weights_only` will be flipped to `True`. This limits the functions that could be executed during unpickling. Arbitrary objects will no longer be allowed to be loaded via this mode unless they are explicitly allowlisted by the user via `torch.serialization.add_safe_globals`. We recommend you start setting `weights_only=True` for any use case where you don't have full control of the loaded file. Please open an issue on GitHub for any issues related to this experimental feature.\n",
            "  decoder.load_state_dict(torch.load(args.decoder_path))\n",
            "<start> a group of giraffes standing next to each other . <end>\n"
          ]
        }
      ]
    }
  ]
}